{
 "cells": [
  {
   "cell_type": "markdown",
   "metadata": {},
   "source": [
    "# TASK 5"
   ]
  },
  {
   "cell_type": "code",
   "execution_count": 1,
   "metadata": {},
   "outputs": [
    {
     "name": "stdout",
     "output_type": "stream",
     "text": [
      "{'club', 'Office'}\n"
     ]
    }
   ],
   "source": [
    "#Go through other inbuilt methods like\n",
    "#1) difference() 2) symmetric_difference()\n",
    "\n",
    "x = {\"home\", \"Office\", \"club\"}\n",
    "y = {\"garden\", \"bar\", \"home\"}\n",
    "\n",
    "z = x.difference(y)\n",
    "print(z)"
   ]
  },
  {
   "cell_type": "code",
   "execution_count": 2,
   "metadata": {},
   "outputs": [
    {
     "name": "stdout",
     "output_type": "stream",
     "text": [
      "{'garden', 'Office', 'club', 'bar'}\n"
     ]
    }
   ],
   "source": [
    "x = {\"home\", \"Office\", \"club\"}\n",
    "y = {\"garden\", \"bar\", \"home\"}\n",
    "\n",
    "z = x.symmetric_difference(y)\n",
    "print(z)"
   ]
  },
  {
   "cell_type": "markdown",
   "metadata": {},
   "source": [
    "# TASK 6"
   ]
  },
  {
   "cell_type": "code",
   "execution_count": 3,
   "metadata": {},
   "outputs": [],
   "source": [
    "#Done in Task 4"
   ]
  },
  {
   "cell_type": "markdown",
   "metadata": {},
   "source": [
    "# TASK 7"
   ]
  },
  {
   "cell_type": "code",
   "execution_count": 4,
   "metadata": {},
   "outputs": [
    {
     "name": "stdout",
     "output_type": "stream",
     "text": [
      "Enter 1st no.10\n",
      "Enter 2nd no.5\n"
     ]
    }
   ],
   "source": [
    "#Ask 2 numbers from users and store it in num1 and num2\n",
    "#Ask user to press 1 for addition,2 for subtraction,3 for multiplication and 4 for division\n",
    "#based on number given by user do the math operation\n",
    "\n",
    "x = int(input('Enter 1st no.'))\n",
    "y = int(input('Enter 2nd no.'))"
   ]
  },
  {
   "cell_type": "code",
   "execution_count": 5,
   "metadata": {},
   "outputs": [
    {
     "name": "stdout",
     "output_type": "stream",
     "text": [
      "Select Math operation\n",
      "1.ADD\n",
      "2.Subtract\n",
      "3.Multiply\n",
      "4.Divide\n"
     ]
    }
   ],
   "source": [
    "print(\"Select Math operation\")\n",
    "print(\"1.ADD\")\n",
    "print(\"2.Subtract\")\n",
    "print(\"3.Multiply\")\n",
    "print(\"4.Divide\")"
   ]
  },
  {
   "cell_type": "code",
   "execution_count": 6,
   "metadata": {},
   "outputs": [
    {
     "name": "stdout",
     "output_type": "stream",
     "text": [
      "enterchoice(1/2/3/4): 3\n"
     ]
    }
   ],
   "source": [
    "choice = input(\"enterchoice(1/2/3/4): \")"
   ]
  },
  {
   "cell_type": "code",
   "execution_count": 9,
   "metadata": {},
   "outputs": [
    {
     "name": "stdout",
     "output_type": "stream",
     "text": [
      "50\n"
     ]
    }
   ],
   "source": [
    "if choice == '1':\n",
    "    add = x+y\n",
    "    print(add)\n",
    "    \n",
    "elif choice == '2':\n",
    "    subtract = x-y\n",
    "    print(subtract)\n",
    "    \n",
    "elif choice == '3':\n",
    "    multiply = x*y\n",
    "    print(multiply)\n",
    "    \n",
    "elif choice == '4':\n",
    "    divide = x/y\n",
    "    print(divide)"
   ]
  },
  {
   "cell_type": "code",
   "execution_count": null,
   "metadata": {},
   "outputs": [],
   "source": []
  }
 ],
 "metadata": {
  "kernelspec": {
   "display_name": "Python 3",
   "language": "python",
   "name": "python3"
  },
  "language_info": {
   "codemirror_mode": {
    "name": "ipython",
    "version": 3
   },
   "file_extension": ".py",
   "mimetype": "text/x-python",
   "name": "python",
   "nbconvert_exporter": "python",
   "pygments_lexer": "ipython3",
   "version": "3.7.4"
  }
 },
 "nbformat": 4,
 "nbformat_minor": 2
}
